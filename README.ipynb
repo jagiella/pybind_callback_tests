{
 "cells": [
  {
   "cell_type": "markdown",
   "id": "1190f25b",
   "metadata": {},
   "source": [
    "## build example module"
   ]
  },
  {
   "cell_type": "code",
   "execution_count": 19,
   "id": "5fe37328",
   "metadata": {},
   "outputs": [
    {
     "name": "stdout",
     "output_type": "stream",
     "text": [
      "-- The C compiler identification is GNU 11.2.0\n",
      "-- The CXX compiler identification is GNU 11.2.0\n",
      "-- Detecting C compiler ABI info\n",
      "-- Detecting C compiler ABI info - done\n",
      "-- Check for working C compiler: /usr/bin/cc - skipped\n",
      "-- Detecting C compile features\n",
      "-- Detecting C compile features - done\n",
      "-- Detecting CXX compiler ABI info\n",
      "-- Detecting CXX compiler ABI info - done\n",
      "-- Check for working CXX compiler: /usr/bin/c++ - skipped\n",
      "-- Detecting CXX compile features\n",
      "-- Detecting CXX compile features - done\n",
      "-- Found PythonInterp: /usr/bin/python3.10 (found version \"3.10.4\") \n",
      "-- Found PythonLibs: /usr/lib/x86_64-linux-gnu/libpython3.10.so\n",
      "-- Performing Test HAS_FLTO\n",
      "-- Performing Test HAS_FLTO - Success\n",
      "-- Found pybind11: /usr/include (found version \"2.9.1\")\n",
      "-- Configuring done\n",
      "-- Generating done\n",
      "-- Build files have been written to: /home/nick/Dokumente/GitHub/pybind_callback_tests/build\n",
      "[ 50%] Building CXX object CMakeFiles/example.dir/pybind.cpp.o\n",
      "[100%] Linking CXX shared module example.cpython-310-x86_64-linux-gnu.so\n",
      "[100%] Built target example\n"
     ]
    }
   ],
   "source": [
    "%%bash\n",
    "cmake -S . -B build && cmake --build build"
   ]
  },
  {
   "cell_type": "markdown",
   "id": "ee7ffadd",
   "metadata": {},
   "source": [
    "## extend PYTHONPATH to find example module"
   ]
  },
  {
   "cell_type": "code",
   "execution_count": 20,
   "id": "c880839d",
   "metadata": {},
   "outputs": [],
   "source": [
    "import sys\n",
    "sys.path.append('build')"
   ]
  },
  {
   "cell_type": "markdown",
   "id": "7c09d23e",
   "metadata": {},
   "source": [
    "## import test function and callbacks "
   ]
  },
  {
   "cell_type": "code",
   "execution_count": 21,
   "id": "656eef68",
   "metadata": {},
   "outputs": [],
   "source": [
    "from example import equal, cpp_callback1, cpp_callback2\n",
    "\n",
    "def py_callback1():\n",
    "    print('py_callback1 called')\n",
    "\n",
    "def py_callback2():\n",
    "    print('py_callback2 called')"
   ]
  },
  {
   "cell_type": "code",
   "execution_count": 22,
   "id": "6bc4cdd0",
   "metadata": {},
   "outputs": [
    {
     "name": "stdout",
     "output_type": "stream",
     "text": [
      "py_callback1 called\n",
      "py_callback2 called\n",
      "cpp_callback1 called\n",
      "cpp_callback2 called\n"
     ]
    }
   ],
   "source": [
    "# execute callbacks\n",
    "py_callback1()\n",
    "py_callback2()\n",
    "cpp_callback1()\n",
    "cpp_callback2()"
   ]
  },
  {
   "cell_type": "code",
   "execution_count": 23,
   "id": "2236d3c8",
   "metadata": {},
   "outputs": [
    {
     "name": "stdout",
     "output_type": "stream",
     "text": [
      "True\n",
      "False\n",
      "f1 and f2 of same type: PFvvE\n",
      "f1 and f2 of same type: PFvvE\n"
     ]
    }
   ],
   "source": [
    "# compare cpp functions\n",
    "print(equal(cpp_callback1, cpp_callback1))\n",
    "print(equal(cpp_callback1, cpp_callback2))"
   ]
  },
  {
   "cell_type": "code",
   "execution_count": 24,
   "id": "3ab3e1c0",
   "metadata": {},
   "outputs": [
    {
     "name": "stdout",
     "output_type": "stream",
     "text": [
      "False\n",
      "False\n",
      "f1 and f2 of same type: ZN8pybind116detail11type_casterISt8functionIFvvEEvE4loadENS_6handleEbE12func_wrapper\n",
      "f1 can not be cast to : void(*)()\n",
      "f1 and f2 of same type: ZN8pybind116detail11type_casterISt8functionIFvvEEvE4loadENS_6handleEbE12func_wrapper\n",
      "f1 can not be cast to : void(*)()\n"
     ]
    }
   ],
   "source": [
    "# compare python functions\n",
    "print(equal(py_callback1, py_callback1))\n",
    "print(equal(py_callback1, py_callback2))"
   ]
  },
  {
   "cell_type": "code",
   "execution_count": null,
   "id": "8001676e",
   "metadata": {},
   "outputs": [],
   "source": []
  }
 ],
 "metadata": {
  "kernelspec": {
   "display_name": "Python 3 (ipykernel)",
   "language": "python",
   "name": "python3"
  },
  "language_info": {
   "codemirror_mode": {
    "name": "ipython",
    "version": 3
   },
   "file_extension": ".py",
   "mimetype": "text/x-python",
   "name": "python",
   "nbconvert_exporter": "python",
   "pygments_lexer": "ipython3",
   "version": "3.10.4"
  }
 },
 "nbformat": 4,
 "nbformat_minor": 5
}
